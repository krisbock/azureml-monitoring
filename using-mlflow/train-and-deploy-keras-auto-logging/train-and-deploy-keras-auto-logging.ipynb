{
  "cells": [
    {
      "cell_type": "markdown",
      "metadata": {},
      "source": [
        "Copyright (c) Microsoft Corporation. All rights reserved.\n",
        "\n",
        "Licensed under the MIT License."
      ]
    },
    {
      "cell_type": "markdown",
      "metadata": {},
      "source": [
        "![Impressions](https://PixelServer20190423114238.azurewebsites.net/api/impressions/MachineLearningNotebooks/how-to-use-azureml/ml-frameworks/using-mlflow/train-and-deploy-keras-auto-logging/train-and-deploy-keras-auto-logging.png)"
      ]
    },
    {
      "cell_type": "markdown",
      "metadata": {},
      "source": [
        "## Use MLflow with Azure Machine Learning to Train and Deploy Keras Image Classifier\n",
        "\n",
        "This example shows you how to use MLflow together with Azure Machine Learning services for tracking the metrics and artifacts while training a Keras model to classify MNIST digit images and deploy the model as a web service. You'll learn how to:\n",
        "\n",
        " 1. Set up MLflow tracking URI so as to use Azure ML\n",
        " 2. Create experiment\n",
        " 3. Instrument your model with MLflow tracking\n",
        " 4. Train a Keras model locally with MLflow auto logging\n",
        " 5. Train a model on GPU compute on Azure with MLflow auto logging\n",
        " 6. View your experiment within your Azure ML Workspace in Azure Portal\n",
        " 7. Deploy the model as a web service on Azure Container Instance\n",
        " 8. Call the model to make predictions\n",
        " \n",
        "### Pre-requisites\n",
        " \n",
        "If you are using a Notebook VM, you are all set. Otherwise, go through the [Configuration](../../../../configuration.ipnyb) notebook to set up your Azure Machine Learning workspace and ensure other common prerequisites are met.\n",
        "\n",
        "Install TensorFlow and Keras, this notebook has been tested with TensorFlow version 2.1.0 and Keras version 2.3.1.\n",
        "\n",
        "Also, install azureml-mlflow package using ```pip install azureml-mlflow```. Note that azureml-mlflow installs mlflow package itself as a dependency if you haven't done so previously.\n",
        "\n",
        "### Set-up\n",
        "\n",
        "Import packages and check versions of Azure ML SDK and MLflow installed on your computer. Then connect to your Workspace."
      ]
    },
    {
      "cell_type": "code",
      "execution_count": 1,
      "metadata": {},
      "outputs": [
        {
          "name": "stdout",
          "output_type": "stream",
          "text": [
            "SDK version: 1.42.0\n",
            "MLflow version: 1.26.1\n"
          ]
        }
      ],
      "source": [
        "import sys, os\n",
        "import mlflow\n",
        "import mlflow.azureml\n",
        "\n",
        "import azureml.core\n",
        "from azureml.core import Workspace\n",
        "\n",
        "\n",
        "print(\"SDK version:\", azureml.core.VERSION)\n",
        "print(\"MLflow version:\", mlflow.version.VERSION)"
      ]
    },
    {
      "cell_type": "code",
      "execution_count": 2,
      "metadata": {},
      "outputs": [
        {
          "data": {
            "text/plain": [
              "{'id': '/subscriptions/3c8972d9-f541-46b2-b70b-d81baba3595d/resourceGroups/mlservices/providers/Microsoft.MachineLearningServices/workspaces/msmls',\n",
              " 'name': 'msmls',\n",
              " 'identity': {'principal_id': '533f9b41-fe01-444e-be02-dac3fb70c11c',\n",
              "  'tenant_id': '72f988bf-86f1-41af-91ab-2d7cd011db47',\n",
              "  'type': 'SystemAssigned'},\n",
              " 'location': 'australiaeast',\n",
              " 'type': 'Microsoft.MachineLearningServices/workspaces',\n",
              " 'tags': {},\n",
              " 'sku': 'Basic',\n",
              " 'workspaceid': 'c96ff9a0-71e5-4401-921d-660ad6b6335a',\n",
              " 'sdkTelemetryAppInsightsKey': 'bd22fe07-ca7e-4337-bd98-3d5116261c1f',\n",
              " 'description': '',\n",
              " 'friendlyName': '',\n",
              " 'containerRegistry': '/subscriptions/3c8972d9-f541-46b2-b70b-d81baba3595d/resourcegroups/mlservices/providers/microsoft.containerregistry/registries/msmls5213556472',\n",
              " 'keyVault': '/subscriptions/3c8972d9-f541-46b2-b70b-d81baba3595d/resourcegroups/mlservices/providers/microsoft.keyvault/vaults/msmls5567188872',\n",
              " 'applicationInsights': '/subscriptions/3c8972d9-f541-46b2-b70b-d81baba3595d/resourceGroups/mlservices/providers/microsoft.insights/components/msmls',\n",
              " 'storageAccount': '/subscriptions/3c8972d9-f541-46b2-b70b-d81baba3595d/resourcegroups/mlservices/providers/microsoft.storage/storageaccounts/msmls9093850258',\n",
              " 'hbiWorkspace': False,\n",
              " 'provisioningState': 'Succeeded',\n",
              " 'discoveryUrl': 'https://australiaeast.api.azureml.ms/discovery',\n",
              " 'notebookInfo': {'fqdn': 'ml-msmls-australiaeast-c96ff9a0-71e5-4401-921d-660ad6b6335a.notebooks.azure.net',\n",
              "  'resource_id': '85798ddfab7f45378a7fb4b7bc672ec0'}}"
            ]
          },
          "execution_count": 2,
          "metadata": {},
          "output_type": "execute_result"
        }
      ],
      "source": [
        "ws = Workspace.from_config()\n",
        "ws.get_details()"
      ]
    },
    {
      "cell_type": "markdown",
      "metadata": {},
      "source": [
        "### Set tracking URI\n",
        "\n",
        "Set the MLflow tracking URI to point to your Azure ML Workspace. The subsequent logging calls from MLflow APIs will go to Azure ML services and will be tracked under your Workspace."
      ]
    },
    {
      "cell_type": "code",
      "execution_count": 3,
      "metadata": {},
      "outputs": [],
      "source": [
        "mlflow.set_tracking_uri(ws.get_mlflow_tracking_uri())"
      ]
    },
    {
      "cell_type": "markdown",
      "metadata": {},
      "source": [
        "### Create Experiment\n",
        "\n",
        "In both MLflow and Azure ML, training runs are grouped into experiments. Let's create one for our experimentation."
      ]
    },
    {
      "cell_type": "code",
      "execution_count": 4,
      "metadata": {},
      "outputs": [
        {
          "name": "stderr",
          "output_type": "stream",
          "text": [
            "2022/06/06 23:09:56 INFO mlflow.tracking.fluent: Experiment with name 'keras-with-mlflow' does not exist. Creating a new experiment.\n"
          ]
        },
        {
          "data": {
            "text/plain": [
              "<Experiment: artifact_location='', experiment_id='f6578cde-4e14-4735-bde7-b955b5d16e1f', lifecycle_stage='active', name='keras-with-mlflow', tags={}>"
            ]
          },
          "execution_count": 4,
          "metadata": {},
          "output_type": "execute_result"
        }
      ],
      "source": [
        "experiment_name = \"keras-with-mlflow\"\n",
        "mlflow.set_experiment(experiment_name)"
      ]
    },
    {
      "cell_type": "markdown",
      "metadata": {},
      "source": [
        "### Train model locally while logging metrics and artifacts\n",
        "\n",
        "The ```scripts/train.py``` program contains the code to load the image dataset, train and test the model. Within this program, the train.driver function wraps the end-to-end workflow.\n",
        "\n",
        "Within the driver, the ```mlflow.start_run``` starts MLflow tracking. Then, MLflow's automatic logging is used to log metrics, parameters and model for the Keras run.\n",
        "\n",
        "Let's add the program to search path, import it as a module and invoke the driver function. Note that the training can take few minutes."
      ]
    },
    {
      "cell_type": "code",
      "execution_count": 5,
      "metadata": {},
      "outputs": [
        {
          "ename": "ModuleNotFoundError",
          "evalue": "No module named 'tensorflow'",
          "output_type": "error",
          "traceback": [
            "\u001b[0;31m---------------------------------------------------------------------------\u001b[0m",
            "\u001b[0;31mModuleNotFoundError\u001b[0m                       Traceback (most recent call last)",
            "\u001b[1;32m/home/krbock/GitHub/azureml-monitoring/using-mlflow/train-and-deploy-keras-auto-logging/train-and-deploy-keras-auto-logging.ipynb Cell 11'\u001b[0m in \u001b[0;36m<cell line: 4>\u001b[0;34m()\u001b[0m\n\u001b[1;32m      <a href='vscode-notebook-cell://wsl%2Bubuntu-18.04/home/krbock/GitHub/azureml-monitoring/using-mlflow/train-and-deploy-keras-auto-logging/train-and-deploy-keras-auto-logging.ipynb#ch0000010vscode-remote?line=0'>1</a>\u001b[0m lib_path \u001b[39m=\u001b[39m os\u001b[39m.\u001b[39mpath\u001b[39m.\u001b[39mabspath(\u001b[39m\"\u001b[39m\u001b[39mscripts\u001b[39m\u001b[39m\"\u001b[39m)\n\u001b[1;32m      <a href='vscode-notebook-cell://wsl%2Bubuntu-18.04/home/krbock/GitHub/azureml-monitoring/using-mlflow/train-and-deploy-keras-auto-logging/train-and-deploy-keras-auto-logging.ipynb#ch0000010vscode-remote?line=1'>2</a>\u001b[0m sys\u001b[39m.\u001b[39mpath\u001b[39m.\u001b[39mappend(lib_path)\n\u001b[0;32m----> <a href='vscode-notebook-cell://wsl%2Bubuntu-18.04/home/krbock/GitHub/azureml-monitoring/using-mlflow/train-and-deploy-keras-auto-logging/train-and-deploy-keras-auto-logging.ipynb#ch0000010vscode-remote?line=3'>4</a>\u001b[0m \u001b[39mimport\u001b[39;00m \u001b[39mtrain\u001b[39;00m\n",
            "File \u001b[0;32m~/GitHub/azureml-monitoring/using-mlflow/train-and-deploy-keras-auto-logging/scripts/train.py:9\u001b[0m, in \u001b[0;36m<module>\u001b[0;34m\u001b[0m\n\u001b[1;32m      <a href='file:///home/krbock/GitHub/azureml-monitoring/using-mlflow/train-and-deploy-keras-auto-logging/scripts/train.py?line=5'>6</a>\u001b[0m \u001b[39mimport\u001b[39;00m \u001b[39mnumpy\u001b[39;00m \u001b[39mas\u001b[39;00m \u001b[39mnp\u001b[39;00m\n\u001b[1;32m      <a href='file:///home/krbock/GitHub/azureml-monitoring/using-mlflow/train-and-deploy-keras-auto-logging/scripts/train.py?line=6'>7</a>\u001b[0m \u001b[39mimport\u001b[39;00m \u001b[39mwarnings\u001b[39;00m\n\u001b[0;32m----> <a href='file:///home/krbock/GitHub/azureml-monitoring/using-mlflow/train-and-deploy-keras-auto-logging/scripts/train.py?line=8'>9</a>\u001b[0m \u001b[39mfrom\u001b[39;00m \u001b[39mtensorflow\u001b[39;00m \u001b[39mimport\u001b[39;00m keras\n\u001b[1;32m     <a href='file:///home/krbock/GitHub/azureml-monitoring/using-mlflow/train-and-deploy-keras-auto-logging/scripts/train.py?line=9'>10</a>\u001b[0m \u001b[39mfrom\u001b[39;00m \u001b[39mtensorflow\u001b[39;00m\u001b[39m.\u001b[39;00m\u001b[39mkeras\u001b[39;00m\u001b[39m.\u001b[39;00m\u001b[39mmodels\u001b[39;00m \u001b[39mimport\u001b[39;00m Sequential\n\u001b[1;32m     <a href='file:///home/krbock/GitHub/azureml-monitoring/using-mlflow/train-and-deploy-keras-auto-logging/scripts/train.py?line=10'>11</a>\u001b[0m \u001b[39mfrom\u001b[39;00m \u001b[39mtensorflow\u001b[39;00m\u001b[39m.\u001b[39;00m\u001b[39mkeras\u001b[39;00m\u001b[39m.\u001b[39;00m\u001b[39mlayers\u001b[39;00m \u001b[39mimport\u001b[39;00m Dense\n",
            "\u001b[0;31mModuleNotFoundError\u001b[0m: No module named 'tensorflow'"
          ]
        }
      ],
      "source": [
        "lib_path = os.path.abspath(\"scripts\")\n",
        "sys.path.append(lib_path)\n",
        "\n",
        "import train"
      ]
    },
    {
      "cell_type": "code",
      "execution_count": null,
      "metadata": {},
      "outputs": [],
      "source": [
        "run = train.driver()"
      ]
    },
    {
      "cell_type": "markdown",
      "metadata": {},
      "source": [
        "### Train model on GPU compute on Azure\n",
        "\n",
        "Next, let's run the same script on GPU-enabled compute for faster training. If you've completed the the [Configuration](../../../configuration.ipnyb) notebook, you should have a GPU cluster named \"gpu-cluster\" available in your workspace. Otherwise, follow the instructions in the notebook to create one. For simplicity, this example uses single process on single VM to train the model.\n",
        "\n",
        "Clone an environment object from the Tensorflow 2.1 Azure ML curated environment. Azure ML curated environments are pre-configured environments to simplify ML setup, reference [this doc](https://docs.microsoft.com/en-us/azure/machine-learning/how-to-use-environments#use-a-curated-environment) for more information. To enable MLflow tracking, add ```azureml-mlflow``` as pip package."
      ]
    },
    {
      "cell_type": "code",
      "execution_count": null,
      "metadata": {},
      "outputs": [],
      "source": [
        "from azureml.core import Environment\n",
        "\n",
        "env = Environment.get(workspace=ws, name=\"AzureML-TensorFlow-2.1-GPU\").clone(\"mlflow-env\")\n",
        "\n",
        "env.python.conda_dependencies.add_pip_package(\"azureml-mlflow\")\n",
        "env.python.conda_dependencies.add_pip_package(\"keras==2.3.1\")\n",
        "env.python.conda_dependencies.add_pip_package(\"numpy\")"
      ]
    },
    {
      "cell_type": "markdown",
      "metadata": {},
      "source": [
        "Create a ScriptRunConfig to specify the training configuration: script, compute as well as environment."
      ]
    },
    {
      "cell_type": "code",
      "execution_count": null,
      "metadata": {},
      "outputs": [],
      "source": [
        "from azureml.core import ScriptRunConfig\n",
        "\n",
        "src = ScriptRunConfig(source_directory=\"./scripts\", script=\"train.py\")\n",
        "src.run_config.environment = env\n",
        "src.run_config.target = \"gpu-cluster\""
      ]
    },
    {
      "cell_type": "markdown",
      "metadata": {},
      "source": [
        "Get a reference to the experiment you created previously, but this time, as an Azure Machine Learning experiment object.\n",
        "\n",
        "Then, use the ```Experiment.submit``` method to start the remote training run. Note that the first training run often takes longer as Azure Machine Learning service builds the Docker image for executing the script. Subsequent runs will be faster as the cached image is used."
      ]
    },
    {
      "cell_type": "code",
      "execution_count": null,
      "metadata": {},
      "outputs": [],
      "source": [
        "from azureml.core import Experiment\n",
        "\n",
        "exp = Experiment(ws, experiment_name)\n",
        "run = exp.submit(src)"
      ]
    },
    {
      "cell_type": "markdown",
      "metadata": {},
      "source": [
        "You can monitor the run and its metrics on Azure Portal."
      ]
    },
    {
      "cell_type": "code",
      "execution_count": null,
      "metadata": {},
      "outputs": [],
      "source": [
        "run"
      ]
    },
    {
      "cell_type": "markdown",
      "metadata": {},
      "source": [
        "Also, you can wait for run to complete."
      ]
    },
    {
      "cell_type": "code",
      "execution_count": null,
      "metadata": {},
      "outputs": [],
      "source": [
        "run.wait_for_completion(show_output=True)"
      ]
    },
    {
      "cell_type": "markdown",
      "metadata": {},
      "source": [
        "### Deploy model as web service\n",
        "\n",
        "The ```client.create_deployment``` function registers the logged Keras+Tensorflow model and deploys the model in a framework-aware manner. It automatically creates the Tensorflow-specific inferencing wrapper code and specifies package dependencies for you. See [this doc](https://mlflow.org/docs/latest/models.html#id34) for more information on deploying models on Azure ML using MLflow.\n",
        "\n",
        "In this example, we deploy the Docker image to Azure Container Instance: a serverless compute capable of running a single container. You can tag and add descriptions to help keep track of your web service. \n",
        "\n",
        "[Other inferencing compute choices](https://docs.microsoft.com/en-us/azure/machine-learning/service/how-to-deploy-and-where) include Azure Kubernetes Service which provides scalable endpoint suitable for production use.\n",
        "\n",
        "Note that the service deployment can take several minutes."
      ]
    },
    {
      "cell_type": "markdown",
      "metadata": {},
      "source": [
        "First define your deployment target and customize parameters in the deployment config. Refer to [this documentation](https://docs.microsoft.com/azure/machine-learning/reference-azure-machine-learning-cli#azure-container-instance-deployment-configuration-schema) for more information. "
      ]
    },
    {
      "cell_type": "code",
      "execution_count": null,
      "metadata": {},
      "outputs": [],
      "source": [
        "import json\n",
        "  \n",
        "# Data to be written\n",
        "deploy_config ={\n",
        "    \"computeType\": \"aci\"\n",
        "}\n",
        "# Serializing json \n",
        "json_object = json.dumps(deploy_config)\n",
        "  \n",
        "# Writing to sample.json\n",
        "with open(\"deployment_config.json\", \"w\") as outfile:\n",
        "    outfile.write(json_object)"
      ]
    },
    {
      "cell_type": "code",
      "execution_count": null,
      "metadata": {},
      "outputs": [],
      "source": [
        "from mlflow.deployments import get_deploy_client\n",
        "\n",
        "# set the tracking uri as the deployment client\n",
        "client = get_deploy_client(mlflow.get_tracking_uri())\n",
        "\n",
        "# set the model path \n",
        "model_path = \"model\"\n",
        "\n",
        "# set the deployment config\n",
        "deployment_config_path = \"deployment_config.json\"\n",
        "test_config = {'deploy-config-file': deployment_config_path}\n",
        "\n",
        "# define the model path and the name is the service name\n",
        "# the model gets registered automatically and a name is autogenerated using the \"name\" parameter below \n",
        "client.create_deployment(model_uri='runs:/{}/{}'.format(run.id, model_path),\n",
        "                         config=test_config,\n",
        "                         name=\"keras-aci-deployment\")"
      ]
    },
    {
      "cell_type": "markdown",
      "metadata": {},
      "source": [
        "Once the deployment has completed you can check the scoring URI of the web service in AzureML studio UI in the endpoints tab. Refer [mlflow predict](https://mlflow.org/docs/latest/python_api/mlflow.deployments.html#mlflow.deployments.BaseDeploymentClient.predict) on how to test your deployment. "
      ]
    },
    {
      "cell_type": "markdown",
      "metadata": {},
      "source": [
        "## Clean up\n",
        "You can delete the ACI deployment with a delete API call."
      ]
    },
    {
      "cell_type": "code",
      "execution_count": null,
      "metadata": {},
      "outputs": [],
      "source": [
        "client.delete(\"keras-aci-deployment\")"
      ]
    }
  ],
  "metadata": {
    "authors": [
      {
        "name": "hancwang"
      }
    ],
    "category": "tutorial",
    "celltoolbar": "Edit Metadata",
    "compute": [
      "Local",
      "AML Compute"
    ],
    "datasets": [
      "MNIST"
    ],
    "deployment": [
      "Azure Container Instance"
    ],
    "exclude_from_index": false,
    "framework": [
      "Keras"
    ],
    "friendly_name": "Use MLflow with Azure Machine Learning to Train and Deploy Keras Image Classifier",
    "interpreter": {
      "hash": "5e99a3f0151f4017ba32038375e7b61d7bd8843b26b36cb6a70955d698532f54"
    },
    "kernelspec": {
      "display_name": "Python 3.6.5 ('azureml-pytorch')",
      "language": "python",
      "name": "python3"
    },
    "language_info": {
      "codemirror_mode": {
        "name": "ipython",
        "version": 3
      },
      "file_extension": ".py",
      "mimetype": "text/x-python",
      "name": "python",
      "nbconvert_exporter": "python",
      "pygments_lexer": "ipython3",
      "version": "3.8.13"
    },
    "tags": [
      "mlflow",
      "keras"
    ],
    "task": "Use MLflow with Azure Machine Learning to Train and Deploy Keras Image Classifier, leveraging MLflow auto logging"
  },
  "nbformat": 4,
  "nbformat_minor": 4
}
